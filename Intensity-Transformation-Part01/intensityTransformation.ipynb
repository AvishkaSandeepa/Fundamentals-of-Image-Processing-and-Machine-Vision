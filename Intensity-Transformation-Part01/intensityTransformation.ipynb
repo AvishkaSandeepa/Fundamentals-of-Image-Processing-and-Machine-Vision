{
 "cells": [
  {
   "cell_type": "markdown",
   "metadata": {},
   "source": [
    "Intensity Transformation part 01"
   ]
  },
  {
   "cell_type": "markdown",
   "metadata": {},
   "source": [
    "Identity Transformation"
   ]
  },
  {
   "cell_type": "markdown",
   "metadata": {},
   "source": [
    "In this case, the output value of the pixel depends only the input value of that pixel .Not it neighbors\n",
    "Intensity transform of f(x) is denoted by T[[f(x)]]. Lets consider about identity transform ( T(.) = 1 )"
   ]
  },
  {
   "cell_type": "code",
   "execution_count": 2,
   "metadata": {},
   "outputs": [
    {
     "data": {
      "image/png": "[encoded data removed]",
      "text/plain": [
       "<Figure size 432x288 with 1 Axes>"
      ]
     },
     "metadata": {
      "needs_background": "light"
     },
     "output_type": "display_data"
    }
   ],
   "source": [
    "import cv2 as cv\n",
    "import numpy as np\n",
    "import matplotlib.pyplot as plt\n",
    "transform = np.arange(0, 256).astype(\"uint8\") # create a vector of values from zero to 255 in  uint8 data type. each position of vector consiost the value same as position value. \n",
    "fig, axes = plt.subplots() # creating suplots using matplotlib\n",
    "axes.plot(transform)  # plot the values of vector \n",
    "axes.set_xlabel(\"f(x)\")\n",
    "axes.set_ylabel(\"Output, T[f(x)]\")\n",
    "axes.set_xlim(0,255)\n",
    "axes.set_ylim(0,255)\n",
    "axes.set_aspect(\"equal\") # set the ratio of x axis and y axis units are equal\n",
    "plt.show()"
   ]
  },
  {
   "cell_type": "markdown",
   "metadata": {},
   "source": [
    "Using above transformation function try to apply it for image. Using opencv HighGUI\n",
    "\n",
    "Look-up tables (LUTs) are very common in custom filters in which two pixels with the same value in the input involves the same value in the output too.\n",
    "\n",
    "An LUT transformation assigns a new pixel value to each pixel in the input image according to the values given by a table. In this table, the index represents the input intensity value and the content of the cell given by the index represents the corresponding output value.\n",
    "\n",
    "You can see there is no difference between original and transformed image. Because the transformation function is identity."
   ]
  },
  {
   "cell_type": "code",
   "execution_count": null,
   "metadata": {},
   "outputs": [],
   "source": [
    "import cv2 as cv\n",
    "import numpy as np\n",
    "import matplotlib.pyplot as plt\n",
    "transform = np.arange(0, 256).astype(\"uint8\") \n",
    "\n",
    "image_original = cv.imread(\".\\image\\ema.jpg\", cv.IMREAD_GRAYSCALE)\n",
    "print(image_original.shape)\n",
    "\n",
    "cv.namedWindow(\"Image\", cv.WINDOW_AUTOSIZE) # Showing original picture i grayscale using opencv HighGUI\n",
    "cv.imshow(\"Image\", image_original)\n",
    "cv.waitKey(0)  #wait for a key press\n",
    "\n",
    "image_transformed = cv.LUT(image_original, transform) # cv.LUT get original image that want to be transform as first parameter & transfer function as second parameter\n",
    "cv.imshow(\"Image\", image_transformed)\n",
    "cv.waitKey(0)\n",
    "cv.destroyAllWindows()"
   ]
  },
  {
   "cell_type": "markdown",
   "metadata": {},
   "source": [
    "Negative Transformation"
   ]
  },
  {
   "cell_type": "markdown",
   "metadata": {},
   "source": [
    "\n",
    "Code is simillar as previous one. But the transform vector is different."
   ]
  },
  {
   "cell_type": "code",
   "execution_count": null,
   "metadata": {},
   "outputs": [],
   "source": [
    "import cv2 as cv\n",
    "import numpy as np\n",
    "import matplotlib.pyplot as plt\n",
    "transform = np.arange(255,-1,-1).astype(\"uint8\") # create a vector of values from 255 to 0 in  uint8 data type. each position of vector consiost the value same as position value. \n",
    "fig, axes = plt.subplots() # creating suplots using matplotlib\n",
    "axes.plot(transform)  # plot the values of vector \n",
    "axes.set_xlabel(\"f(x)\")\n",
    "axes.set_ylabel(\"Output, T[f(x)]\")\n",
    "axes.set_xlim(0,255)\n",
    "axes.set_ylim(0,255)\n",
    "axes.set_aspect(\"equal\") # set the ratio of x axis and y axis units are equal\n",
    "\n",
    "\n",
    "#######################################################################\n",
    "\n",
    "image_original = cv.imread(\".\\image\\ema.jpg\", cv.IMREAD_GRAYSCALE)\n",
    "print(image_original.shape)\n",
    "image_original = cv.cvtColor(image_original, cv.COLOR_BGR2RGB)\n",
    "#cv.namedWindow(\"Image\", cv.WINDOW_AUTOSIZE) # Showing original picture i grayscale using opencv HighGUI\n",
    "#cv.imshow(\"Image\", image_original)\n",
    "#cv.waitKey(0)  #wait for a key press\n",
    "\n",
    "image_transformed = cv.LUT(image_original, transform) # cv.LUT get original image that want to be transform as first parameter & transfer function as second parameter\n",
    "\n",
    "axes.imshow(image_transformed)\n",
    "#cv.imshow(\"Image\", image_transformed)\n",
    "#cv.waitKey(0)\n",
    "#cv.destroyAllWindows()\n",
    "plt.show()"
   ]
  }
 ],
 "metadata": {
  "kernelspec": {
   "display_name": "Python 3",
   "language": "python",
   "name": "python3"
  },
  "language_info": {
   "codemirror_mode": {
    "name": "ipython",
    "version": 3
   },
   "file_extension": ".py",
   "mimetype": "text/x-python",
   "name": "python",
   "nbconvert_exporter": "python",
   "pygments_lexer": "ipython3",
   "version": "3.7.4"
  }
 },
 "nbformat": 4,
 "nbformat_minor": 4
}
